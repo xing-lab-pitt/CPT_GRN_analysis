{
 "cells": [
  {
   "cell_type": "code",
   "execution_count": 2,
   "id": "0fbbb2e6-6684-4460-8954-995b70dbdc08",
   "metadata": {},
   "outputs": [
    {
     "data": {
      "text/plain": [
       "'This notebook uses an alternative method GRISLI for inferring gene regulation networks and calculating frustration.'"
      ]
     },
     "execution_count": 2,
     "metadata": {},
     "output_type": "execute_result"
    }
   ],
   "source": [
    "\"This notebook uses an alternative method GRISLI for inferring gene regulation networks and calculating frustration.\""
   ]
  },
  {
   "cell_type": "code",
   "execution_count": 1,
   "id": "27ba3c4b",
   "metadata": {},
   "outputs": [],
   "source": [
    "import dynamo as dyn\n",
    "import numpy as np\n",
    "from scipy import stats,signal\n",
    "# import scvelo as scv\n",
    "from matplotlib import pyplot as plt\n",
    "from scipy import sparse\n",
    "from sklearn.neighbors import KernelDensity\n",
    "import networkx as nx\n",
    "import os\n",
    "import glob\n",
    "import anndata\n",
    "from scipy.interpolate import CubicSpline,interp1d\n",
    "from voronoi_finite_polygons_2d import voronoi_finite_polygons_2d\n",
    "from scipy.spatial import Voronoi, voronoi_plot_2d\n",
    "from sklearn.preprocessing import StandardScaler,MinMaxScaler\n",
    "from sklearn.cross_decomposition import PLSRegression\n",
    "from sklearn import linear_model\n",
    "from sklearn.feature_selection import VarianceThreshold\n",
    "from scipy.sparse import csr_matrix\n",
    "\n",
    "from joblib import Parallel, delayed\n",
    "import pandas as pd\n",
    "from tigress import _bootstrap_generator,_subsampling_generator,_fit_bootstrap_sample,StabilizedSelection,TIGRESS\n",
    "from sklearn.linear_model import LinearRegression"
   ]
  },
  {
   "cell_type": "code",
   "execution_count": 2,
   "id": "6302e422",
   "metadata": {},
   "outputs": [],
   "source": [
    "dim_n=10\n",
    "result_path='result/'\n",
    "adata=dyn.read(result_path+'EG_dyn.h5ad')\n",
    "\n",
    "path=np.load(result_path+'EG_dyn_rc.npy')\n",
    "rc_extend=np.load(result_path+'EG_rc_extend.npy')\n",
    "\n",
    "gene_arr=np.load(result_path+'EG_bin_genes.npy',allow_pickle=True)\n"
   ]
  },
  {
   "cell_type": "code",
   "execution_count": 4,
   "id": "71d4f6fe",
   "metadata": {},
   "outputs": [],
   "source": [
    "V0_ori=adata.layers['velocity_S'].A\n",
    "X0_ori=adata.layers['M_s'].A"
   ]
  },
  {
   "cell_type": "code",
   "execution_count": 5,
   "id": "4e21c92f",
   "metadata": {},
   "outputs": [
    {
     "data": {
      "text/plain": [
       "(1731, 470)"
      ]
     },
     "execution_count": 5,
     "metadata": {},
     "output_type": "execute_result"
    }
   ],
   "source": [
    "from sklearn.impute import SimpleImputer\n",
    "imp_mean = SimpleImputer(missing_values=np.nan, strategy='mean')\n",
    "X0_ori=imp_mean.fit_transform(X0_ori)\n",
    "imp_mean = SimpleImputer(missing_values=np.nan, strategy='mean')\n",
    "\n",
    "V0_ori=imp_mean.fit_transform(V0_ori)\n",
    "V0_ori.shape"
   ]
  },
  {
   "cell_type": "code",
   "execution_count": 6,
   "id": "ce13a599",
   "metadata": {},
   "outputs": [],
   "source": [
    "bin_centers=np.load(result_path+'EG_bin_genes_center.npy',allow_pickle=True)\n",
    "X0_bin=X0_ori.copy()\n",
    "for i in range(X0_ori.shape[1]):\n",
    "    gene_kc=bin_centers[i,:]\n",
    "    x=X0_ori[:,i]\n",
    "    x_dist0=abs(x-gene_kc[0])\n",
    "    x_dist1=abs(x-gene_kc[1])\n",
    "#     print(x_dist0)\n",
    "    \n",
    "#     print(x_dist0<x_dist1)\n",
    "    \n",
    "    X0_bin[:,i][x_dist0<x_dist1]=0\n",
    "    X0_bin[:,i][x_dist0>=x_dist1]=1"
   ]
  },
  {
   "cell_type": "code",
   "execution_count": 7,
   "id": "7ec6a181",
   "metadata": {},
   "outputs": [
    {
     "name": "stdout",
     "output_type": "stream",
     "text": [
      "(1731, 470) (1731, 470)\n"
     ]
    }
   ],
   "source": [
    "X0=StandardScaler().fit_transform(X0_ori)\n",
    "V0=StandardScaler().fit_transform(V0_ori)\n",
    "print(X0.shape,V0.shape)\n",
    "gene_list=adata.var.index.values"
   ]
  },
  {
   "cell_type": "code",
   "execution_count": 8,
   "id": "e2a92900",
   "metadata": {},
   "outputs": [
    {
     "data": {
      "text/plain": [
       "(array([ 0,  1,  2,  3,  4,  5,  6,  7,  8,  9, 10, 11, 12, 13, 14, 15, 16],\n",
       "       dtype=int64),\n",
       " array([  7, 119,  50,  52,  56,  66, 104, 150, 111,  98,  89, 107, 155,\n",
       "        114, 128, 253,  72], dtype=int64))"
      ]
     },
     "execution_count": 8,
     "metadata": {},
     "output_type": "execute_result"
    }
   ],
   "source": [
    "data_rc=np.array([np.argmin(np.linalg.norm((adata.obsm['X_pca'][i,:dim_n]-rc_extend),axis=1)) for i in range(adata.shape[0])])\n",
    "np.unique(data_rc,return_counts=True)"
   ]
  },
  {
   "cell_type": "code",
   "execution_count": 9,
   "id": "e525292c",
   "metadata": {},
   "outputs": [
    {
     "name": "stdout",
     "output_type": "stream",
     "text": [
      "7\n",
      "119\n",
      "50\n",
      "52\n",
      "56\n",
      "66\n",
      "104\n",
      "137\n",
      "89\n",
      "84\n",
      "82\n",
      "92\n",
      "116\n",
      "80\n",
      "96\n",
      "164\n",
      "71\n"
     ]
    }
   ],
   "source": [
    "path_neigh=[[] for i in range(rc_extend.shape[0])]\n",
    "for i in range(rc_extend.shape[0]):\n",
    "#     mask=np.in1d(np.argsort(np.linalg.norm((adata.obsm['X_pca'][:,:dim_n]-path[i,:]),axis=1))[:200],np.where(data_rc==i)[0])\n",
    "#     path_neigh[i]=np.argsort(np.linalg.norm((adata.obsm['X_pca'][:,:dim_n]-path[i,:]),axis=1))[:200][mask][:100].tolist()\n",
    "#     print(len(path_neigh[i]))\n",
    "    mask=np.in1d(np.where(data_rc==i)[0],np.argsort(np.linalg.norm((adata.obsm['X_pca'][:,:dim_n]-rc_extend[i,:]),axis=1))[:200])\n",
    "    path_neigh[i]=np.where(data_rc==i)[0][mask].tolist()\n",
    "    print(len(path_neigh[i]))"
   ]
  },
  {
   "cell_type": "code",
   "execution_count": 10,
   "id": "5d06a64d",
   "metadata": {},
   "outputs": [],
   "source": [
    "sel=[j for nei in path_neigh[1:-1] for j in nei]\n",
    "X0_ori_sel=X0_ori[np.unique(np.asarray(sel).flatten()),:]\n",
    "X0_sel=StandardScaler().fit_transform(X0_ori_sel)\n",
    "V0_ori_sel=V0_ori[np.unique(np.asarray(sel).flatten()),:]\n",
    "V0_sel=StandardScaler().fit_transform(V0_ori_sel)"
   ]
  },
  {
   "cell_type": "code",
   "execution_count": 11,
   "id": "58f34f91",
   "metadata": {},
   "outputs": [
    {
     "data": {
      "text/plain": [
       "(1731, 470)"
      ]
     },
     "execution_count": 11,
     "metadata": {},
     "output_type": "execute_result"
    }
   ],
   "source": [
    "X0_bin[np.where(X0_bin==0)]=-1\n",
    "X0_bin.shape"
   ]
  },
  {
   "cell_type": "code",
   "execution_count": 12,
   "id": "9d956f56",
   "metadata": {},
   "outputs": [],
   "source": [
    "def net_frustration(X,V,F):\n",
    "    frus_score=[]\n",
    "    V_sign=np.sign(V)\n",
    "#     F_sign=np.sign(F)\n",
    "    for i in range(V.shape[0]):\n",
    "        F_sign=np.sign((X[i,:]>0).astype(np.int)*((F*X[i,:]).T))\n",
    "#         F_sign=np.sign(X[i,:]*((F*X[i,:]).T))\n",
    "        edge_frus=F_sign#V_sign[i,:]*F_sign\n",
    "#         print(np.sum(edge_frus),np.count_nonzero(F_sign))\n",
    "        frus_ratio=(np.count_nonzero(F_sign)-np.sum(edge_frus))*0.5/np.count_nonzero(F)\n",
    "        frus_score.append(frus_ratio)\n",
    "    return np.array(frus_score)"
   ]
  },
  {
   "cell_type": "code",
   "execution_count": 13,
   "id": "797807d6",
   "metadata": {},
   "outputs": [],
   "source": [
    "def net_H(X,V,F):\n",
    "    pseudo_h=[]\n",
    "    V_sign=np.sign(V)\n",
    "#     F_sign=np.sign(F)\n",
    "    for i in range(V.shape[0]):\n",
    "        F_sign=np.sign((X[i,:]>0).astype(np.int)*((F*X[i,:]).T))\n",
    "\n",
    "        pseudo_h.append(-np.sum(F_sign))\n",
    "    return np.array(pseudo_h)"
   ]
  },
  {
   "cell_type": "code",
   "execution_count": 14,
   "id": "bff1ad5a",
   "metadata": {
    "scrolled": true
   },
   "outputs": [],
   "source": [
    "\"GRISLI calcualte the score between \"predictor\" variables and \"response\" variables with TIGRESS method.\""
   ]
  },
  {
   "cell_type": "code",
   "execution_count": 15,
   "id": "728965bb",
   "metadata": {
    "scrolled": true
   },
   "outputs": [
    {
     "name": "stdout",
     "output_type": "stream",
     "text": [
      "(470, 50)\n",
      "(470, 50)\n",
      "(470, 50)\n",
      "(470, 50)\n",
      "(470, 50)\n",
      "(470, 50)\n",
      "(470, 50)\n",
      "(470, 50)\n",
      "(470, 50)\n",
      "(470, 50)\n",
      "(470, 50)\n",
      "(470, 50)\n",
      "(470, 50)\n",
      "(470, 50)\n",
      "(470, 50)\n",
      "(470, 50)\n",
      "(470, 50)\n",
      "(470, 50)\n",
      "(470, 50)\n",
      "(470, 50)\n",
      "(470, 50)\n",
      "(470, 50)\n",
      "(470, 50)\n",
      "(470, 50)\n",
      "(470, 50)\n",
      "(470, 50)\n",
      "(470, 50)\n",
      "(470, 50)\n",
      "(470, 50)\n",
      "(470, 50)\n",
      "(470, 50)\n",
      "(470, 50)\n",
      "(470, 50)\n",
      "(470, 50)\n",
      "(470, 50)\n",
      "(470, 50)\n",
      "(470, 50)\n",
      "(470, 50)\n",
      "(470, 50)\n",
      "(470, 50)\n",
      "(470, 50)\n",
      "(470, 50)\n",
      "(470, 50)\n",
      "(470, 50)\n",
      "(470, 50)\n",
      "(470, 50)\n",
      "(470, 50)\n",
      "(470, 50)\n",
      "(470, 50)\n",
      "(470, 50)\n",
      "(470, 50)\n",
      "(470, 50)\n",
      "(470, 50)\n",
      "(470, 50)\n",
      "(470, 50)\n",
      "(470, 50)\n",
      "(470, 50)\n",
      "(470, 50)\n",
      "(470, 50)\n",
      "(470, 50)\n",
      "(470, 50)\n",
      "(470, 50)\n",
      "(470, 50)\n",
      "(470, 50)\n",
      "(470, 50)\n",
      "(470, 50)\n",
      "(470, 50)\n",
      "(470, 50)\n",
      "(470, 50)\n",
      "(470, 50)\n",
      "(470, 50)\n",
      "(470, 50)\n",
      "(470, 50)\n",
      "(470, 50)\n",
      "(470, 50)\n",
      "(470, 50)\n",
      "(470, 50)\n",
      "(470, 50)\n",
      "(470, 50)\n",
      "(470, 50)\n",
      "(470, 50)\n",
      "(470, 50)\n",
      "(470, 50)\n",
      "(470, 50)\n",
      "(470, 50)\n",
      "(470, 50)\n",
      "(470, 50)\n",
      "(470, 50)\n",
      "(470, 50)\n",
      "(470, 50)\n",
      "(470, 50)\n",
      "(470, 50)\n",
      "(470, 50)\n",
      "(470, 50)\n",
      "(470, 50)\n",
      "(470, 50)\n",
      "(470, 50)\n",
      "(470, 50)\n",
      "(470, 50)\n",
      "(470, 50)\n",
      "(470, 50)\n",
      "(470, 50)\n",
      "(470, 50)\n",
      "(470, 50)\n",
      "(470, 50)\n",
      "(470, 50)\n",
      "(470, 50)\n",
      "(470, 50)\n",
      "(470, 50)\n",
      "(470, 50)\n",
      "(470, 50)\n",
      "(470, 50)\n",
      "(470, 50)\n",
      "(470, 50)\n",
      "(470, 50)\n",
      "(470, 50)\n",
      "(470, 50)\n",
      "(470, 50)\n",
      "(470, 50)\n",
      "(470, 50)\n",
      "(470, 50)\n",
      "(470, 50)\n",
      "(470, 50)\n",
      "(470, 50)\n",
      "(470, 50)\n",
      "(470, 50)\n",
      "(470, 50)\n",
      "(470, 50)\n",
      "(470, 50)\n",
      "(470, 50)\n",
      "(470, 50)\n",
      "(470, 50)\n",
      "(470, 50)\n",
      "(470, 50)\n",
      "(470, 50)\n",
      "(470, 50)\n",
      "(470, 50)\n",
      "(470, 50)\n",
      "(470, 50)\n",
      "(470, 50)\n",
      "(470, 50)\n",
      "(470, 50)\n",
      "(470, 50)\n",
      "(470, 50)\n",
      "(470, 50)\n",
      "(470, 50)\n",
      "(470, 50)\n",
      "(470, 50)\n",
      "(470, 50)\n",
      "(470, 50)\n",
      "(470, 50)\n",
      "(470, 50)\n",
      "(470, 50)\n",
      "(470, 50)\n",
      "(470, 50)\n",
      "(470, 50)\n",
      "(470, 50)\n",
      "(470, 50)\n",
      "(470, 50)\n",
      "(470, 50)\n",
      "(470, 50)\n",
      "(470, 50)\n",
      "(470, 50)\n",
      "(470, 50)\n",
      "(470, 50)\n",
      "(470, 50)\n",
      "(470, 50)\n",
      "(470, 50)\n",
      "(470, 50)\n",
      "(470, 50)\n",
      "(470, 50)\n",
      "(470, 50)\n",
      "(470, 50)\n",
      "(470, 50)\n",
      "(470, 50)\n",
      "(470, 50)\n",
      "(470, 50)\n",
      "(470, 50)\n",
      "(470, 50)\n",
      "(470, 50)\n",
      "(470, 50)\n",
      "(470, 50)\n",
      "(470, 50)\n",
      "(470, 50)\n",
      "(470, 50)\n",
      "(470, 50)\n",
      "(470, 50)\n",
      "(470, 50)\n",
      "(470, 50)\n",
      "(470, 50)\n",
      "(470, 50)\n",
      "(470, 50)\n",
      "(470, 50)\n",
      "(470, 50)\n",
      "(470, 50)\n",
      "(470, 50)\n",
      "(470, 50)\n",
      "(470, 50)\n",
      "(470, 50)\n",
      "(470, 50)\n",
      "(470, 50)\n",
      "(470, 50)\n",
      "(470, 50)\n",
      "(470, 50)\n",
      "(470, 50)\n",
      "(470, 50)\n",
      "(470, 50)\n",
      "(470, 50)\n",
      "(470, 50)\n",
      "(470, 50)\n",
      "(470, 50)\n",
      "(470, 50)\n",
      "(470, 50)\n",
      "(470, 50)\n",
      "(470, 50)\n",
      "(470, 50)\n",
      "(470, 50)\n",
      "(470, 50)\n",
      "(470, 50)\n",
      "(470, 50)\n",
      "(470, 50)\n",
      "(470, 50)\n",
      "(470, 50)\n",
      "(470, 50)\n",
      "(470, 50)\n",
      "(470, 50)\n",
      "(470, 50)\n",
      "(470, 50)\n",
      "(470, 50)\n",
      "(470, 50)\n",
      "(470, 50)\n",
      "(470, 50)\n",
      "(470, 50)\n",
      "(470, 50)\n",
      "(470, 50)\n",
      "(470, 50)\n",
      "(470, 50)\n",
      "(470, 50)\n",
      "(470, 50)\n",
      "(470, 50)\n",
      "(470, 50)\n",
      "(470, 50)\n",
      "(470, 50)\n",
      "(470, 50)\n",
      "(470, 50)\n",
      "(470, 50)\n",
      "(470, 50)\n",
      "(470, 50)\n",
      "(470, 50)\n",
      "(470, 50)\n",
      "(470, 50)\n",
      "(470, 50)\n",
      "(470, 50)\n",
      "(470, 50)\n",
      "(470, 50)\n",
      "(470, 50)\n",
      "(470, 50)\n",
      "(470, 50)\n",
      "(470, 50)\n",
      "(470, 50)\n",
      "(470, 50)\n",
      "(470, 50)\n",
      "(470, 50)\n",
      "(470, 50)\n",
      "(470, 50)\n",
      "(470, 50)\n",
      "(470, 50)\n",
      "(470, 50)\n",
      "(470, 50)\n",
      "(470, 50)\n",
      "(470, 50)\n",
      "(470, 50)\n",
      "(470, 50)\n",
      "(470, 50)\n",
      "(470, 50)\n",
      "(470, 50)\n",
      "(470, 50)\n",
      "(470, 50)\n",
      "(470, 50)\n",
      "(470, 50)\n",
      "(470, 50)\n",
      "(470, 50)\n",
      "(470, 50)\n",
      "(470, 50)\n",
      "(470, 50)\n",
      "(470, 50)\n",
      "(470, 50)\n",
      "(470, 50)\n",
      "(470, 50)\n",
      "(470, 50)\n",
      "(470, 50)\n",
      "(470, 50)\n",
      "(470, 50)\n",
      "(470, 50)\n",
      "(470, 50)\n",
      "(470, 50)\n",
      "(470, 50)\n",
      "(470, 50)\n",
      "(470, 50)\n",
      "(470, 50)\n",
      "(470, 50)\n",
      "(470, 50)\n",
      "(470, 50)\n",
      "(470, 50)\n",
      "(470, 50)\n",
      "(470, 50)\n",
      "(470, 50)\n",
      "(470, 50)\n",
      "(470, 50)\n",
      "(470, 50)\n",
      "(470, 50)\n",
      "(470, 50)\n",
      "(470, 50)\n",
      "(470, 50)\n",
      "(470, 50)\n",
      "(470, 50)\n",
      "(470, 50)\n",
      "(470, 50)\n",
      "(470, 50)\n",
      "(470, 50)\n",
      "(470, 50)\n",
      "(470, 50)\n",
      "(470, 50)\n",
      "(470, 50)\n",
      "(470, 50)\n",
      "(470, 50)\n",
      "(470, 50)\n",
      "(470, 50)\n",
      "(470, 50)\n",
      "(470, 50)\n",
      "(470, 50)\n",
      "(470, 50)\n",
      "(470, 50)\n",
      "(470, 50)\n",
      "(470, 50)\n",
      "(470, 50)\n",
      "(470, 50)\n",
      "(470, 50)\n",
      "(470, 50)\n",
      "(470, 50)\n",
      "(470, 50)\n",
      "(470, 50)\n",
      "(470, 50)\n",
      "(470, 50)\n",
      "(470, 50)\n",
      "(470, 50)\n",
      "(470, 50)\n",
      "(470, 50)\n",
      "(470, 50)\n",
      "(470, 50)\n",
      "(470, 50)\n",
      "(470, 50)\n",
      "(470, 50)\n",
      "(470, 50)\n",
      "(470, 50)\n",
      "(470, 50)\n",
      "(470, 50)\n",
      "(470, 50)\n",
      "(470, 50)\n",
      "(470, 50)\n",
      "(470, 50)\n",
      "(470, 50)\n",
      "(470, 50)\n",
      "(470, 50)\n",
      "(470, 50)\n",
      "(470, 50)\n",
      "(470, 50)\n",
      "(470, 50)\n",
      "(470, 50)\n",
      "(470, 50)\n",
      "(470, 50)\n",
      "(470, 50)\n",
      "(470, 50)\n",
      "(470, 50)\n",
      "(470, 50)\n",
      "(470, 50)\n",
      "(470, 50)\n",
      "(470, 50)\n",
      "(470, 50)\n",
      "(470, 50)\n",
      "(470, 50)\n",
      "(470, 50)\n",
      "(470, 50)\n",
      "(470, 50)\n",
      "(470, 50)\n",
      "(470, 50)\n",
      "(470, 50)\n",
      "(470, 50)\n",
      "(470, 50)\n",
      "(470, 50)\n",
      "(470, 50)\n",
      "(470, 50)\n",
      "(470, 50)\n",
      "(470, 50)\n",
      "(470, 50)\n",
      "(470, 50)\n",
      "(470, 50)\n",
      "(470, 50)\n",
      "(470, 50)\n",
      "(470, 50)\n",
      "(470, 50)\n",
      "(470, 50)\n",
      "(470, 50)\n",
      "(470, 50)\n",
      "(470, 50)\n",
      "(470, 50)\n",
      "(470, 50)\n",
      "(470, 50)\n",
      "(470, 50)\n",
      "(470, 50)\n",
      "(470, 50)\n",
      "(470, 50)\n",
      "(470, 50)\n",
      "(470, 50)\n",
      "(470, 50)\n",
      "(470, 50)\n",
      "(470, 50)\n",
      "(470, 50)\n",
      "(470, 50)\n",
      "(470, 50)\n",
      "(470, 50)\n",
      "(470, 50)\n",
      "(470, 50)\n",
      "(470, 50)\n",
      "(470, 50)\n",
      "(470, 50)\n",
      "(470, 50)\n",
      "(470, 50)\n",
      "(470, 50)\n",
      "(470, 50)\n",
      "(470, 50)\n",
      "(470, 50)\n",
      "(470, 50)\n",
      "(470, 50)\n",
      "(470, 50)\n",
      "(470, 50)\n",
      "(470, 50)\n",
      "(470, 50)\n",
      "(470, 50)\n",
      "(470, 50)\n",
      "(470, 50)\n",
      "(470, 50)\n",
      "(470, 50)\n",
      "(470, 50)\n",
      "(470, 50)\n",
      "(470, 50)\n",
      "(470, 50)\n",
      "(470, 50)\n",
      "(470, 50)\n",
      "(470, 50)\n",
      "(470, 50)\n",
      "(470, 50)\n",
      "(470, 50)\n",
      "(470, 50)\n",
      "(470, 50)\n",
      "(470, 50)\n",
      "(470, 50)\n",
      "(470, 50)\n",
      "(470, 50)\n",
      "(470, 50)\n",
      "(470, 50)\n",
      "(470, 50)\n",
      "(470, 50)\n",
      "(470, 50)\n",
      "(470, 50)\n",
      "(470, 50)\n",
      "(470, 50)\n",
      "(470, 50)\n",
      "(470, 50)\n",
      "(470, 50)\n",
      "(470, 50)\n",
      "(470, 50)\n",
      "(470, 50)\n",
      "(470, 50)\n",
      "(470, 50)\n",
      "(470, 50)\n",
      "(470, 50)\n",
      "(470, 50)\n",
      "(470, 50)\n",
      "(470, 50)\n",
      "(470, 50)\n",
      "(470, 50)\n",
      "(470, 50)\n",
      "(470, 50)\n",
      "(470, 50)\n",
      "(470, 50)\n",
      "(470, 50)\n",
      "(470, 50)\n",
      "(470, 50)\n",
      "(470, 50)\n",
      "(470, 50)\n",
      "(470, 50)\n",
      "(470, 50)\n",
      "(470, 50)\n",
      "(470, 50)\n",
      "(470, 50)\n",
      "(470, 50)\n",
      "(470, 50)\n",
      "(470, 50)\n",
      "(470, 50)\n",
      "(470, 50)\n",
      "(470, 50)\n",
      "(470, 50)\n",
      "(470, 50)\n",
      "(470, 50)\n",
      "(470, 50)\n",
      "(470, 50)\n",
      "(470, 50)\n",
      "(470, 50)\n",
      "(470, 50)\n",
      "(470, 50)\n",
      "(470, 50)\n",
      "(470, 50)\n",
      "(470, 50)\n",
      "(470, 50)\n",
      "(470, 50)\n",
      "(470, 50)\n",
      "(470, 50)\n",
      "(470, 50)\n",
      "(470, 50)\n",
      "(470, 50)\n",
      "(470, 50)\n",
      "(470, 50)\n",
      "(470, 50)\n",
      "(470, 50)\n",
      "(470, 50)\n",
      "(470, 50)\n",
      "(470, 50)\n",
      "(470, 50)\n",
      "(470, 50)\n",
      "(470, 50)\n",
      "(470, 50)\n",
      "(470, 50)\n",
      "(470, 50)\n",
      "(470, 50)\n",
      "(470, 50)\n",
      "(470, 50)\n",
      "(470, 50)\n",
      "(470, 50)\n",
      "(470, 50)\n",
      "(470, 50)\n",
      "(470, 50)\n",
      "(470, 50)\n",
      "(470, 50)\n",
      "(470, 50)\n",
      "(470, 50)\n",
      "(470, 50)\n",
      "(470, 50)\n",
      "(470, 50)\n",
      "(470, 50)\n",
      "(470, 50)\n",
      "(470, 50)\n",
      "(470, 50)\n",
      "(470, 50)\n",
      "(470, 50)\n",
      "(470, 50)\n",
      "(470, 50)\n",
      "(470, 50)\n",
      "(470, 50)\n",
      "(470, 50)\n",
      "(470, 50)\n",
      "(470, 50)\n",
      "(470, 50)\n",
      "(470, 50)\n",
      "(470, 50)\n",
      "(470, 50)\n",
      "(470, 50)\n",
      "(470, 50)\n",
      "(470, 50)\n",
      "(470, 50)\n",
      "(470, 50)\n",
      "(470, 50)\n",
      "(470, 50)\n",
      "(470, 50)\n",
      "(470, 50)\n",
      "(470, 50)\n",
      "(470, 50)\n",
      "(470, 50)\n",
      "(470, 50)\n",
      "(470, 50)\n",
      "(470, 50)\n",
      "(470, 50)\n",
      "(470, 50)\n",
      "(470, 50)\n",
      "(470, 50)\n",
      "(470, 50)\n",
      "(470, 50)\n",
      "(470, 50)\n",
      "(470, 50)\n",
      "(470, 50)\n",
      "(470, 50)\n",
      "(470, 50)\n",
      "(470, 50)\n",
      "(470, 50)\n",
      "(470, 50)\n",
      "(470, 50)\n",
      "(470, 50)\n",
      "(470, 50)\n",
      "(470, 50)\n",
      "(470, 50)\n",
      "(470, 50)\n",
      "(470, 50)\n",
      "(470, 50)\n",
      "(470, 50)\n",
      "(470, 50)\n",
      "(470, 50)\n",
      "(470, 50)\n",
      "(470, 50)\n",
      "(470, 50)\n",
      "(470, 50)\n",
      "(470, 50)\n",
      "(470, 50)\n",
      "(470, 50)\n",
      "(470, 50)\n",
      "(470, 50)\n",
      "(470, 50)\n",
      "(470, 50)\n",
      "(470, 50)\n",
      "(470, 50)\n",
      "(470, 50)\n",
      "(470, 50)\n",
      "(470, 50)\n",
      "(470, 50)\n",
      "(470, 50)\n",
      "(470, 50)\n",
      "(470, 50)\n",
      "(470, 50)\n",
      "(470, 50)\n",
      "(470, 50)\n",
      "(470, 50)\n",
      "(470, 50)\n",
      "(470, 50)\n",
      "(470, 50)\n",
      "(470, 50)\n",
      "(470, 50)\n",
      "(470, 50)\n",
      "(470, 50)\n",
      "(470, 50)\n",
      "(470, 50)\n",
      "(470, 50)\n",
      "(470, 50)\n",
      "(470, 50)\n",
      "(470, 50)\n",
      "(470, 50)\n",
      "(470, 50)\n",
      "(470, 50)\n",
      "(470, 50)\n",
      "(470, 50)\n",
      "(470, 50)\n",
      "(470, 50)\n",
      "(470, 50)\n",
      "(470, 50)\n",
      "(470, 50)\n",
      "(470, 50)\n",
      "(470, 50)\n",
      "(470, 50)\n",
      "(470, 50)\n",
      "(470, 50)\n",
      "(470, 50)\n",
      "(470, 50)\n",
      "(470, 50)\n",
      "(470, 50)\n",
      "(470, 50)\n",
      "(470, 50)\n",
      "(470, 50)\n",
      "(470, 50)\n",
      "(470, 50)\n",
      "(470, 50)\n",
      "(470, 50)\n",
      "(470, 50)\n",
      "(470, 50)\n",
      "(470, 50)\n",
      "(470, 50)\n",
      "(470, 50)\n",
      "(470, 50)\n",
      "(470, 50)\n",
      "(470, 50)\n",
      "(470, 50)\n",
      "(470, 50)\n",
      "(470, 50)\n",
      "(470, 50)\n",
      "(470, 50)\n",
      "(470, 50)\n",
      "(470, 50)\n",
      "(470, 50)\n",
      "(470, 50)\n",
      "(470, 50)\n",
      "(470, 50)\n",
      "(470, 50)\n",
      "(470, 50)\n",
      "(470, 50)\n",
      "(470, 50)\n",
      "(470, 50)\n",
      "(470, 50)\n",
      "(470, 50)\n",
      "(470, 50)\n",
      "(470, 50)\n",
      "(470, 50)\n",
      "(470, 50)\n",
      "(470, 50)\n",
      "(470, 50)\n",
      "(470, 50)\n",
      "(470, 50)\n",
      "(470, 50)\n",
      "(470, 50)\n",
      "(470, 50)\n",
      "(470, 50)\n",
      "(470, 50)\n",
      "(470, 50)\n",
      "(470, 50)\n",
      "(470, 50)\n",
      "(470, 50)\n",
      "(470, 50)\n",
      "(470, 50)\n",
      "(470, 50)\n",
      "(470, 50)\n",
      "(470, 50)\n",
      "(470, 50)\n",
      "(470, 50)\n",
      "(470, 50)\n",
      "(470, 50)\n",
      "(470, 50)\n",
      "(470, 50)\n",
      "(470, 50)\n",
      "(470, 50)\n",
      "(470, 50)\n",
      "(470, 50)\n",
      "(470, 50)\n",
      "(470, 50)\n",
      "(470, 50)\n",
      "(470, 50)\n",
      "(470, 50)\n",
      "(470, 50)\n",
      "(470, 50)\n",
      "(470, 50)\n",
      "(470, 50)\n",
      "(470, 50)\n",
      "(470, 50)\n",
      "(470, 50)\n",
      "(470, 50)\n",
      "(470, 50)\n",
      "(470, 50)\n",
      "(470, 50)\n",
      "(470, 50)\n",
      "(470, 50)\n",
      "(470, 50)\n",
      "(470, 50)\n",
      "(470, 50)\n",
      "(470, 50)\n",
      "(470, 50)\n",
      "(470, 50)\n",
      "(470, 50)\n",
      "(470, 50)\n",
      "(470, 50)\n",
      "(470, 50)\n",
      "(470, 50)\n",
      "(470, 50)\n",
      "(470, 50)\n",
      "(470, 50)\n",
      "(470, 50)\n",
      "(470, 50)\n",
      "(470, 50)\n",
      "(470, 50)\n",
      "(470, 50)\n",
      "(470, 50)\n",
      "(470, 50)\n",
      "(470, 50)\n",
      "(470, 50)\n",
      "(470, 50)\n",
      "(470, 50)\n",
      "(470, 50)\n",
      "(470, 50)\n",
      "(470, 50)\n",
      "(470, 50)\n",
      "(470, 50)\n",
      "(470, 50)\n",
      "(470, 50)\n",
      "(470, 50)\n",
      "(470, 50)\n",
      "(470, 50)\n",
      "(470, 50)\n",
      "(470, 50)\n",
      "(470, 50)\n",
      "(470, 50)\n",
      "(470, 50)\n",
      "(470, 50)\n",
      "(470, 50)\n",
      "(470, 50)\n",
      "(470, 50)\n",
      "(470, 50)\n",
      "(470, 50)\n",
      "(470, 50)\n",
      "(470, 50)\n",
      "(470, 50)\n",
      "(470, 50)\n",
      "(470, 50)\n",
      "(470, 50)\n",
      "(470, 50)\n",
      "(470, 50)\n",
      "(470, 50)\n",
      "(470, 50)\n",
      "(470, 50)\n",
      "(470, 50)\n",
      "(470, 50)\n",
      "(470, 50)\n",
      "(470, 50)\n",
      "(470, 50)\n",
      "(470, 50)\n",
      "(470, 50)\n",
      "(470, 50)\n",
      "(470, 50)\n",
      "(470, 50)\n",
      "(470, 50)\n",
      "(470, 50)\n",
      "(470, 50)\n",
      "(470, 50)\n",
      "(470, 50)\n",
      "(470, 50)\n",
      "(470, 50)\n",
      "(470, 50)\n"
     ]
    },
    {
     "name": "stdout",
     "output_type": "stream",
     "text": [
      "(470, 50)\n",
      "(470, 50)\n",
      "(470, 50)\n",
      "(470, 50)\n",
      "(470, 50)\n",
      "(470, 50)\n",
      "(470, 50)\n",
      "(470, 50)\n",
      "(470, 50)\n",
      "(470, 50)\n",
      "(470, 50)\n",
      "(470, 50)\n",
      "(470, 50)\n",
      "(470, 50)\n",
      "(470, 50)\n",
      "(470, 50)\n",
      "(470, 50)\n",
      "(470, 50)\n",
      "(470, 50)\n",
      "(470, 50)\n",
      "(470, 50)\n",
      "(470, 50)\n",
      "(470, 50)\n",
      "(470, 50)\n",
      "(470, 50)\n",
      "(470, 50)\n",
      "(470, 50)\n",
      "(470, 50)\n",
      "(470, 50)\n",
      "(470, 50)\n",
      "(470, 50)\n",
      "(470, 50)\n",
      "(470, 50)\n",
      "(470, 50)\n",
      "(470, 50)\n",
      "(470, 50)\n",
      "(470, 50)\n",
      "(470, 50)\n",
      "(470, 50)\n",
      "(470, 50)\n",
      "(470, 50)\n",
      "(470, 50)\n",
      "(470, 50)\n",
      "(470, 50)\n",
      "(470, 50)\n",
      "(470, 50)\n",
      "(470, 50)\n",
      "(470, 50)\n",
      "(470, 50)\n",
      "(470, 50)\n",
      "(470, 50)\n",
      "(470, 50)\n",
      "(470, 50)\n",
      "(470, 50)\n",
      "(470, 50)\n",
      "(470, 50)\n",
      "(470, 50)\n",
      "(470, 50)\n",
      "(470, 50)\n",
      "(470, 50)\n",
      "(470, 50)\n",
      "(470, 50)\n",
      "(470, 50)\n",
      "(470, 50)\n",
      "(470, 50)\n",
      "(470, 50)\n",
      "(470, 50)\n",
      "(470, 50)\n",
      "(470, 50)\n",
      "(470, 50)\n",
      "(470, 50)\n",
      "(470, 50)\n",
      "(470, 50)\n",
      "(470, 50)\n",
      "(470, 50)\n",
      "(470, 50)\n",
      "(470, 50)\n",
      "(470, 50)\n",
      "(470, 50)\n",
      "(470, 50)\n",
      "(470, 50)\n",
      "(470, 50)\n",
      "(470, 50)\n",
      "(470, 50)\n",
      "(470, 50)\n",
      "(470, 50)\n",
      "(470, 50)\n",
      "(470, 50)\n",
      "(470, 50)\n",
      "(470, 50)\n",
      "(470, 50)\n",
      "(470, 50)\n",
      "(470, 50)\n",
      "(470, 50)\n",
      "(470, 50)\n",
      "(470, 50)\n",
      "(470, 50)\n",
      "(470, 50)\n",
      "(470, 50)\n",
      "(470, 50)\n",
      "(470, 50)\n",
      "(470, 50)\n",
      "(470, 50)\n",
      "(470, 50)\n",
      "(470, 50)\n",
      "(470, 50)\n",
      "(470, 50)\n",
      "(470, 50)\n",
      "(470, 50)\n",
      "(470, 50)\n",
      "(470, 50)\n",
      "(470, 50)\n",
      "(470, 50)\n",
      "(470, 50)\n",
      "(470, 50)\n",
      "(470, 50)\n",
      "(470, 50)\n",
      "(470, 50)\n",
      "(470, 50)\n",
      "(470, 50)\n"
     ]
    }
   ],
   "source": [
    "n=V0_sel.shape[1]\n",
    "tig_score=np.zeros((n,n))\n",
    "for i in range(V0_sel.shape[1]):\n",
    "    v=V0_sel[:,i][:,None]\n",
    "    tig=TIGRESS(R=50,L=50).fit(X0_sel,v)\n",
    "    tig_score[:,i]=tig.scores_.values[:,0]"
   ]
  },
  {
   "cell_type": "code",
   "execution_count": 16,
   "id": "284cf3b0",
   "metadata": {},
   "outputs": [
    {
     "data": {
      "image/png": "[encoded data removed]",
      "text/plain": [
       "<Figure size 432x288 with 1 Axes>"
      ]
     },
     "metadata": {
      "needs_background": "light"
     },
     "output_type": "display_data"
    }
   ],
   "source": [
    "plt.hist(tig_score.flatten(),bins=100)\n",
    "plt.show()"
   ]
  },
  {
   "cell_type": "code",
   "execution_count": null,
   "id": "5d1daa75-accd-4541-8fb9-c7708bdfd0d0",
   "metadata": {},
   "outputs": [],
   "source": [
    "\"by setting a threshold on the TIGRESS score, the most significant regulation relation are inferred\""
   ]
  },
  {
   "cell_type": "code",
   "execution_count": 23,
   "id": "cb42dd39",
   "metadata": {},
   "outputs": [
    {
     "data": {
      "text/plain": [
       "(5070,)"
      ]
     },
     "execution_count": 23,
     "metadata": {},
     "output_type": "execute_result"
    }
   ],
   "source": [
    "tig_score_thres=0.5\n",
    "tig_score_mask=tig_score>tig_score_thres\n",
    "\n",
    "np.where(tig_score_mask)[0].shape"
   ]
  },
  {
   "cell_type": "code",
   "execution_count": 24,
   "id": "06ea2d75",
   "metadata": {},
   "outputs": [],
   "source": [
    "np.save(result_path+'EG_tig_score.npy',tig_score)"
   ]
  },
  {
   "cell_type": "code",
   "execution_count": 15,
   "id": "2f26a83f",
   "metadata": {},
   "outputs": [],
   "source": [
    "tig_score=np.load(result_path+'EG_tig_score.npy')"
   ]
  },
  {
   "cell_type": "code",
   "execution_count": 25,
   "id": "fe108cf2",
   "metadata": {},
   "outputs": [],
   "source": [
    "n=V0_sel.shape[1]\n",
    "F=np.zeros((n,n))\n",
    "for i in range(n):\n",
    "\n",
    "    \n",
    "    r_inds=np.where(tig_score_mask[:,i])[0]\n",
    "    if len(r_inds)>0:\n",
    "        x=X0_sel[:,r_inds]\n",
    "        reg = LinearRegression().fit(x, V0_sel[:,i])\n",
    "        F[r_inds,i]=reg.coef_\n"
   ]
  },
  {
   "cell_type": "code",
   "execution_count": 26,
   "id": "e7cb4451",
   "metadata": {},
   "outputs": [],
   "source": [
    "np.save(result_path+'grisli_EG_F.npy',F)"
   ]
  },
  {
   "cell_type": "code",
   "execution_count": 16,
   "id": "5c74d5bc",
   "metadata": {},
   "outputs": [],
   "source": [
    "F=np.load(result_path+'grisli_EG_F.npy')"
   ]
  },
  {
   "cell_type": "code",
   "execution_count": 17,
   "id": "81021607",
   "metadata": {},
   "outputs": [
    {
     "name": "stderr",
     "output_type": "stream",
     "text": [
      "C:\\Users\\zoro\\AppData\\Roaming\\Python\\Python37\\site-packages\\ipykernel_launcher.py:6: DeprecationWarning: `np.int` is a deprecated alias for the builtin `int`. To silence this warning, use `int` by itself. Doing this will not modify any behavior and is safe. When replacing `np.int`, you may wish to use e.g. `np.int64` or `np.int32` to specify the precision. If you wish to review your current use, check the release note link for additional information.\n",
      "Deprecated in NumPy 1.20; for more details and guidance: https://numpy.org/devdocs/release/1.20.0-notes.html#deprecations\n",
      "  \n"
     ]
    },
    {
     "data": {
      "image/png": "[encoded data removed]",
      "text/plain": [
       "<Figure size 432x288 with 1 Axes>"
      ]
     },
     "metadata": {
      "needs_background": "light"
     },
     "output_type": "display_data"
    },
    {
     "name": "stdout",
     "output_type": "stream",
     "text": [
      "0.14510964148973202\n"
     ]
    },
    {
     "data": {
      "image/png": "[encoded data removed]",
      "text/plain": [
       "<Figure size 432x288 with 1 Axes>"
      ]
     },
     "metadata": {
      "needs_background": "light"
     },
     "output_type": "display_data"
    },
    {
     "name": "stdout",
     "output_type": "stream",
     "text": [
      "0.17099802761341223\n"
     ]
    },
    {
     "data": {
      "image/png": "[encoded data removed]",
      "text/plain": [
       "<Figure size 432x288 with 1 Axes>"
      ]
     },
     "metadata": {
      "needs_background": "light"
     },
     "output_type": "display_data"
    },
    {
     "name": "stdout",
     "output_type": "stream",
     "text": [
      "0.1882301623425884\n"
     ]
    },
    {
     "data": {
      "image/png": "[encoded data removed]",
      "text/plain": [
       "<Figure size 432x288 with 1 Axes>"
      ]
     },
     "metadata": {
      "needs_background": "light"
     },
     "output_type": "display_data"
    },
    {
     "name": "stdout",
     "output_type": "stream",
     "text": [
      "0.1769723865877712\n"
     ]
    },
    {
     "data": {
      "image/png": "[encoded data removed]",
      "text/plain": [
       "<Figure size 432x288 with 1 Axes>"
      ]
     },
     "metadata": {
      "needs_background": "light"
     },
     "output_type": "display_data"
    },
    {
     "name": "stdout",
     "output_type": "stream",
     "text": [
      "0.15389994620763853\n"
     ]
    },
    {
     "data": {
      "image/png": "[encoded data removed]",
      "text/plain": [
       "<Figure size 432x288 with 1 Axes>"
      ]
     },
     "metadata": {
      "needs_background": "light"
     },
     "output_type": "display_data"
    },
    {
     "name": "stdout",
     "output_type": "stream",
     "text": [
      "0.1399010013654984\n"
     ]
    },
    {
     "data": {
      "image/png": "[encoded data removed]",
      "text/plain": [
       "<Figure size 432x288 with 1 Axes>"
      ]
     },
     "metadata": {
      "needs_background": "light"
     },
     "output_type": "display_data"
    },
    {
     "name": "stdout",
     "output_type": "stream",
     "text": [
      "0.1409018269770656\n"
     ]
    },
    {
     "data": {
      "image/png": "[encoded data removed]",
      "text/plain": [
       "<Figure size 432x288 with 1 Axes>"
      ]
     },
     "metadata": {
      "needs_background": "light"
     },
     "output_type": "display_data"
    },
    {
     "name": "stdout",
     "output_type": "stream",
     "text": [
      "0.1314362963455444\n"
     ]
    },
    {
     "data": {
      "image/png": "[encoded data removed]",
      "text/plain": [
       "<Figure size 432x288 with 1 Axes>"
      ]
     },
     "metadata": {
      "needs_background": "light"
     },
     "output_type": "display_data"
    },
    {
     "name": "stdout",
     "output_type": "stream",
     "text": [
      "0.12169155630694094\n"
     ]
    },
    {
     "data": {
      "image/png": "[encoded data removed]",
      "text/plain": [
       "<Figure size 432x288 with 1 Axes>"
      ]
     },
     "metadata": {
      "needs_background": "light"
     },
     "output_type": "display_data"
    },
    {
     "name": "stdout",
     "output_type": "stream",
     "text": [
      "0.11627940539760426\n"
     ]
    },
    {
     "data": {
      "image/png": "[encoded data removed]",
      "text/plain": [
       "<Figure size 432x288 with 1 Axes>"
      ]
     },
     "metadata": {
      "needs_background": "light"
     },
     "output_type": "display_data"
    },
    {
     "name": "stdout",
     "output_type": "stream",
     "text": [
      "0.11517451333504845\n"
     ]
    },
    {
     "data": {
      "image/png": "[encoded data removed]",
      "text/plain": [
       "<Figure size 432x288 with 1 Axes>"
      ]
     },
     "metadata": {
      "needs_background": "light"
     },
     "output_type": "display_data"
    },
    {
     "name": "stdout",
     "output_type": "stream",
     "text": [
      "0.10912058763517651\n"
     ]
    },
    {
     "data": {
      "image/png": "[encoded data removed]",
      "text/plain": [
       "<Figure size 432x288 with 1 Axes>"
      ]
     },
     "metadata": {
      "needs_background": "light"
     },
     "output_type": "display_data"
    },
    {
     "name": "stdout",
     "output_type": "stream",
     "text": [
      "0.10751232741617356\n"
     ]
    },
    {
     "data": {
      "image/png": "[encoded data removed]",
      "text/plain": [
       "<Figure size 432x288 with 1 Axes>"
      ]
     },
     "metadata": {
      "needs_background": "light"
     },
     "output_type": "display_data"
    },
    {
     "name": "stdout",
     "output_type": "stream",
     "text": [
      "0.10462483563445102\n"
     ]
    },
    {
     "data": {
      "image/png": "[encoded data removed]",
      "text/plain": [
       "<Figure size 432x288 with 1 Axes>"
      ]
     },
     "metadata": {
      "needs_background": "light"
     },
     "output_type": "display_data"
    },
    {
     "name": "stdout",
     "output_type": "stream",
     "text": [
      "0.1040794727473902\n"
     ]
    }
   ],
   "source": [
    "frus_scores=[]\n",
    "path_frus=[]\n",
    "\n",
    "pseudo_H=[]\n",
    "path_H=[]\n",
    "\n",
    "for i in range(1,rc_extend.shape[0]-1):\n",
    "\n",
    "        \n",
    "    \n",
    "\n",
    "    X=X0[path_neigh[i]]\n",
    "    V=V0[path_neigh[i]]\n",
    "#     print(path_neigh[i])\n",
    "    \n",
    "    X_ori=X0_ori[path_neigh[i]]\n",
    "    V_ori=V0_ori[path_neigh[i]]\n",
    "    X_bin=X0_bin[path_neigh[i]]\n",
    "\n",
    "\n",
    "    group_frus_score=net_frustration(X_bin,V_ori,F)\n",
    "    plt.hist(group_frus_score,bins=50,edgecolor='k')\n",
    "    plt.show()\n",
    "    frus_scores.append(group_frus_score)\n",
    "    \n",
    "    path_frus.append(np.mean(group_frus_score))\n",
    "    print(np.mean(group_frus_score))\n",
    "    group_H=net_H(X_bin,V_ori,F)\n",
    "    pseudo_H.append(group_H)\n",
    "    path_H.append(np.mean(group_H))"
   ]
  },
  {
   "cell_type": "code",
   "execution_count": 20,
   "id": "d2c948c1",
   "metadata": {},
   "outputs": [
    {
     "data": {
      "image/png": "[encoded data removed]",
      "text/plain": [
       "<Figure size 561.6x374.4 with 1 Axes>"
      ]
     },
     "metadata": {
      "needs_background": "light"
     },
     "output_type": "display_data"
    }
   ],
   "source": [
    "fig,ax=plt.subplots(figsize=(7.8,5.2))\n",
    "dot_color=np.arange(path.shape[0])\n",
    "cm=plt.cm.get_cmap('jet')\n",
    "plt.plot(np.arange(path.shape[0])+1,path_frus)\n",
    "\n",
    "plt.violinplot(frus_scores,positions=np.arange(path.shape[0])+1)\n",
    "plt.scatter(np.arange(path.shape[0])+1,path_frus,s=100,c=dot_color,cmap=cm,zorder=10)\n",
    "plt.ylabel('Frustration',fontsize=16,fontweight='bold')\n",
    "plt.xlabel('r',fontsize=18,fontweight='bold')\n",
    "\n",
    "plt.xticks(np.arange(17,step=2),fontsize=14,fontweight='bold')\n",
    "plt.yticks(fontsize=14,fontweight='bold')  \n",
    "# plt.axis([0,16,0,0.4])\n",
    "plt.savefig(result_path+'EG_grisli_frus.png',dpi=300)\n",
    "plt.show()"
   ]
  },
  {
   "cell_type": "code",
   "execution_count": null,
   "id": "9dbc8f7d",
   "metadata": {},
   "outputs": [],
   "source": []
  }
 ],
 "metadata": {
  "kernelspec": {
   "display_name": "Python 3 (ipykernel)",
   "language": "python",
   "name": "python3"
  },
  "language_info": {
   "codemirror_mode": {
    "name": "ipython",
    "version": 3
   },
   "file_extension": ".py",
   "mimetype": "text/x-python",
   "name": "python",
   "nbconvert_exporter": "python",
   "pygments_lexer": "ipython3",
   "version": "3.9.18"
  }
 },
 "nbformat": 4,
 "nbformat_minor": 5
}
